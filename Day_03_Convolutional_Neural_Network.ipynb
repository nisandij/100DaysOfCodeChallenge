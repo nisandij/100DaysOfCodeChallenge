{
  "nbformat": 4,
  "nbformat_minor": 0,
  "metadata": {
    "colab": {
      "name": "Day 03 - Convolutional Neural Network",
      "provenance": [],
      "authorship_tag": "ABX9TyM4WIx5AZ4UdArq64FyzJlh",
      "include_colab_link": true
    },
    "kernelspec": {
      "name": "python3",
      "display_name": "Python 3"
    },
    "language_info": {
      "name": "python"
    }
  },
  "cells": [
    {
      "cell_type": "markdown",
      "metadata": {
        "id": "view-in-github",
        "colab_type": "text"
      },
      "source": [
        "<a href=\"https://colab.research.google.com/github/nisandij/100DaysOfCodeChallenge/blob/main/Day_03_Convolutional_Neural_Network.ipynb\" target=\"_parent\"><img src=\"https://colab.research.google.com/assets/colab-badge.svg\" alt=\"Open In Colab\"/></a>"
      ]
    },
    {
      "cell_type": "code",
      "execution_count": 3,
      "metadata": {
        "colab": {
          "base_uri": "https://localhost:8080/"
        },
        "id": "2cvXF8uA-kEC",
        "outputId": "f5ff18b3-5d89-4bd0-e4a5-249024a9c3e0"
      },
      "outputs": [
        {
          "output_type": "stream",
          "name": "stdout",
          "text": [
            "Epoch 1/50\n",
            "1875/1875 [==============================] - 62s 33ms/step - loss: 0.4453 - accuracy: 0.8372\n",
            "Epoch 2/50\n",
            "1875/1875 [==============================] - 60s 32ms/step - loss: 0.2983 - accuracy: 0.8917\n",
            "Epoch 3/50\n",
            "1875/1875 [==============================] - 61s 32ms/step - loss: 0.2512 - accuracy: 0.9072\n",
            "Epoch 4/50\n",
            "1875/1875 [==============================] - 60s 32ms/step - loss: 0.2216 - accuracy: 0.9175\n",
            "Epoch 5/50\n",
            "1875/1875 [==============================] - 61s 32ms/step - loss: 0.1949 - accuracy: 0.9268\n",
            "Epoch 6/50\n",
            "1875/1875 [==============================] - 60s 32ms/step - loss: 0.1710 - accuracy: 0.9366\n",
            "Epoch 7/50\n",
            "1875/1875 [==============================] - 60s 32ms/step - loss: 0.1511 - accuracy: 0.9426\n",
            "Epoch 8/50\n",
            "1875/1875 [==============================] - 60s 32ms/step - loss: 0.1344 - accuracy: 0.9491\n",
            "Epoch 9/50\n",
            "1875/1875 [==============================] - 60s 32ms/step - loss: 0.1185 - accuracy: 0.9540\n",
            "Epoch 10/50\n",
            "1875/1875 [==============================] - 60s 32ms/step - loss: 0.1040 - accuracy: 0.9607\n",
            "Epoch 11/50\n",
            "1875/1875 [==============================] - 60s 32ms/step - loss: 0.0905 - accuracy: 0.9659\n",
            "Epoch 12/50\n",
            "1875/1875 [==============================] - 60s 32ms/step - loss: 0.0820 - accuracy: 0.9689\n",
            "Epoch 13/50\n",
            "1875/1875 [==============================] - 60s 32ms/step - loss: 0.0716 - accuracy: 0.9730\n",
            "Epoch 14/50\n",
            "1875/1875 [==============================] - 60s 32ms/step - loss: 0.0635 - accuracy: 0.9758\n",
            "Epoch 15/50\n",
            "1875/1875 [==============================] - 60s 32ms/step - loss: 0.0589 - accuracy: 0.9773\n",
            "Epoch 16/50\n",
            "1875/1875 [==============================] - 60s 32ms/step - loss: 0.0560 - accuracy: 0.9790\n",
            "Epoch 17/50\n",
            "1875/1875 [==============================] - 60s 32ms/step - loss: 0.0471 - accuracy: 0.9829\n",
            "Epoch 18/50\n",
            "1875/1875 [==============================] - 60s 32ms/step - loss: 0.0456 - accuracy: 0.9829\n",
            "Epoch 19/50\n",
            "1875/1875 [==============================] - 60s 32ms/step - loss: 0.0409 - accuracy: 0.9847\n",
            "Epoch 20/50\n",
            "1875/1875 [==============================] - 60s 32ms/step - loss: 0.0395 - accuracy: 0.9849\n",
            "Epoch 21/50\n",
            "1875/1875 [==============================] - 60s 32ms/step - loss: 0.0359 - accuracy: 0.9873\n",
            "Epoch 22/50\n",
            "1875/1875 [==============================] - 60s 32ms/step - loss: 0.0340 - accuracy: 0.9872\n",
            "Epoch 23/50\n",
            "1875/1875 [==============================] - 60s 32ms/step - loss: 0.0313 - accuracy: 0.9887\n",
            "Epoch 24/50\n",
            "1875/1875 [==============================] - 60s 32ms/step - loss: 0.0309 - accuracy: 0.9881\n",
            "Epoch 25/50\n",
            "1875/1875 [==============================] - 60s 32ms/step - loss: 0.0293 - accuracy: 0.9893\n",
            "Epoch 26/50\n",
            "1875/1875 [==============================] - 60s 32ms/step - loss: 0.0271 - accuracy: 0.9901\n",
            "Epoch 27/50\n",
            "1875/1875 [==============================] - 60s 32ms/step - loss: 0.0259 - accuracy: 0.9906\n",
            "Epoch 28/50\n",
            "1875/1875 [==============================] - 59s 32ms/step - loss: 0.0252 - accuracy: 0.9916\n",
            "Epoch 29/50\n",
            "1875/1875 [==============================] - 59s 32ms/step - loss: 0.0251 - accuracy: 0.9912\n",
            "Epoch 30/50\n",
            "1875/1875 [==============================] - 60s 32ms/step - loss: 0.0215 - accuracy: 0.9920\n",
            "Epoch 31/50\n",
            "1875/1875 [==============================] - 59s 32ms/step - loss: 0.0287 - accuracy: 0.9898\n",
            "Epoch 32/50\n",
            "1875/1875 [==============================] - 59s 32ms/step - loss: 0.0204 - accuracy: 0.9928\n",
            "Epoch 33/50\n",
            "1875/1875 [==============================] - 59s 31ms/step - loss: 0.0225 - accuracy: 0.9922\n",
            "Epoch 34/50\n",
            "1875/1875 [==============================] - 59s 31ms/step - loss: 0.0234 - accuracy: 0.9921\n",
            "Epoch 35/50\n",
            "1875/1875 [==============================] - 59s 32ms/step - loss: 0.0211 - accuracy: 0.9929\n",
            "Epoch 36/50\n",
            "1875/1875 [==============================] - 59s 32ms/step - loss: 0.0214 - accuracy: 0.9929\n",
            "Epoch 37/50\n",
            "1875/1875 [==============================] - 59s 32ms/step - loss: 0.0199 - accuracy: 0.9935\n",
            "Epoch 38/50\n",
            "1875/1875 [==============================] - 59s 32ms/step - loss: 0.0208 - accuracy: 0.9928\n",
            "Epoch 39/50\n",
            "1875/1875 [==============================] - 59s 32ms/step - loss: 0.0230 - accuracy: 0.9926\n",
            "Epoch 40/50\n",
            "1875/1875 [==============================] - 59s 32ms/step - loss: 0.0194 - accuracy: 0.9935\n",
            "Epoch 41/50\n",
            "1875/1875 [==============================] - 59s 32ms/step - loss: 0.0156 - accuracy: 0.9949\n",
            "Epoch 42/50\n",
            "1875/1875 [==============================] - 59s 31ms/step - loss: 0.0188 - accuracy: 0.9936\n",
            "Epoch 43/50\n",
            "1875/1875 [==============================] - 59s 31ms/step - loss: 0.0212 - accuracy: 0.9930\n",
            "Epoch 44/50\n",
            "1875/1875 [==============================] - 59s 31ms/step - loss: 0.0192 - accuracy: 0.9934\n",
            "Epoch 45/50\n",
            "1875/1875 [==============================] - 59s 31ms/step - loss: 0.0158 - accuracy: 0.9948\n",
            "Epoch 46/50\n",
            "1875/1875 [==============================] - 58s 31ms/step - loss: 0.0202 - accuracy: 0.9938\n",
            "Epoch 47/50\n",
            "1875/1875 [==============================] - 58s 31ms/step - loss: 0.0203 - accuracy: 0.9932\n",
            "Epoch 48/50\n",
            "1875/1875 [==============================] - 58s 31ms/step - loss: 0.0156 - accuracy: 0.9945\n",
            "Epoch 49/50\n",
            "1875/1875 [==============================] - 58s 31ms/step - loss: 0.0202 - accuracy: 0.9939\n",
            "Epoch 50/50\n",
            "1875/1875 [==============================] - 58s 31ms/step - loss: 0.0180 - accuracy: 0.9945\n",
            "313/313 [==============================] - 3s 9ms/step - loss: 0.9374 - accuracy: 0.9063\n",
            "[0.0000000e+00 1.6059078e-24 5.4157861e-33 5.0969732e-30 0.0000000e+00\n",
            " 2.6913284e-32 9.2322941e-34 1.4102253e-16 4.7376028e-36 1.0000000e+00]\n",
            "9\n"
          ]
        }
      ],
      "source": [
        "import tensorflow as tf\n",
        "data = tf.keras.datasets.fashion_mnist\n",
        "\n",
        "(training_images, training_labels), (test_images, test_labels) = data.load_data()\n",
        "training_images = training_images.reshape(60000, 28, 28, 1)\n",
        "training_images = training_images / 255.0\n",
        "test_images = test_images.reshape(10000, 28, 28, 1)\n",
        "test_images = test_images / 255.0\n",
        "\n",
        "model = tf.keras.models.Sequential([\n",
        "    tf.keras.layers.Conv2D(64, (3, 3), activation='relu', input_shape=(28, 28, 1)),\n",
        "    tf.keras.layers.MaxPooling2D(2, 2),\n",
        "    tf.keras.layers.Conv2D(64, (3, 3), activation='relu'),\n",
        "    tf.keras.layers.MaxPooling2D(2, 2),\n",
        "    tf.keras.layers.Flatten(),\n",
        "    tf.keras.layers.Dense(128, activation=tf.nn.relu),\n",
        "    tf.keras.layers.Dense(10, activation=tf.nn.softmax)\n",
        "])\n",
        "\n",
        "model.compile(optimizer='adam',\n",
        "              loss='sparse_categorical_crossentropy',\n",
        "              metrics=['accuracy'])\n",
        "\n",
        "model.fit(training_images, training_labels, epochs=50)\n",
        "\n",
        "model.evaluate(test_images, test_labels)\n",
        "\n",
        "classifications = model.predict(test_images)\n",
        "print(classifications[0])\n",
        "print(test_labels[0])"
      ]
    },
    {
      "cell_type": "code",
      "source": [
        "model.summary()"
      ],
      "metadata": {
        "colab": {
          "base_uri": "https://localhost:8080/"
        },
        "id": "ln8pi_wSMZWW",
        "outputId": "10342c35-d494-40c9-bff9-caf00337be4f"
      },
      "execution_count": 5,
      "outputs": [
        {
          "output_type": "stream",
          "name": "stdout",
          "text": [
            "Model: \"sequential\"\n",
            "_________________________________________________________________\n",
            " Layer (type)                Output Shape              Param #   \n",
            "=================================================================\n",
            " conv2d_2 (Conv2D)           (None, 26, 26, 64)        640       \n",
            "                                                                 \n",
            " max_pooling2d_2 (MaxPooling  (None, 13, 13, 64)       0         \n",
            " 2D)                                                             \n",
            "                                                                 \n",
            " conv2d_3 (Conv2D)           (None, 11, 11, 64)        36928     \n",
            "                                                                 \n",
            " max_pooling2d_3 (MaxPooling  (None, 5, 5, 64)         0         \n",
            " 2D)                                                             \n",
            "                                                                 \n",
            " flatten_1 (Flatten)         (None, 1600)              0         \n",
            "                                                                 \n",
            " dense (Dense)               (None, 128)               204928    \n",
            "                                                                 \n",
            " dense_1 (Dense)             (None, 10)                1290      \n",
            "                                                                 \n",
            "=================================================================\n",
            "Total params: 243,786\n",
            "Trainable params: 243,786\n",
            "Non-trainable params: 0\n",
            "_________________________________________________________________\n"
          ]
        }
      ]
    }
  ]
}